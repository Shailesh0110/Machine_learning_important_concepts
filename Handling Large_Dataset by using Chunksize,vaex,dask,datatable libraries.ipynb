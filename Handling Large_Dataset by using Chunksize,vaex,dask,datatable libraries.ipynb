{
 "cells": [
  {
   "cell_type": "code",
   "execution_count": 1,
   "id": "a5927348",
   "metadata": {},
   "outputs": [
    {
     "data": {
      "text/html": [
       "<style type='text/css'>\n",
       ".datatable table.frame { margin-bottom: 0; }\n",
       ".datatable table.frame thead { border-bottom: none; }\n",
       ".datatable table.frame tr.coltypes td {  color: #FFFFFF;  line-height: 6px;  padding: 0 0.5em;}\n",
       ".datatable .bool    { background: #DDDD99; }\n",
       ".datatable .object  { background: #565656; }\n",
       ".datatable .int     { background: #5D9E5D; }\n",
       ".datatable .float   { background: #4040CC; }\n",
       ".datatable .str     { background: #CC4040; }\n",
       ".datatable .time    { background: #40CC40; }\n",
       ".datatable .row_index {  background: var(--jp-border-color3);  border-right: 1px solid var(--jp-border-color0);  color: var(--jp-ui-font-color3);  font-size: 9px;}\n",
       ".datatable .frame tbody td { text-align: left; }\n",
       ".datatable .frame tr.coltypes .row_index {  background: var(--jp-border-color0);}\n",
       ".datatable th:nth-child(2) { padding-left: 12px; }\n",
       ".datatable .hellipsis {  color: var(--jp-cell-editor-border-color);}\n",
       ".datatable .vellipsis {  background: var(--jp-layout-color0);  color: var(--jp-cell-editor-border-color);}\n",
       ".datatable .na {  color: var(--jp-cell-editor-border-color);  font-size: 80%;}\n",
       ".datatable .sp {  opacity: 0.25;}\n",
       ".datatable .footer { font-size: 9px; }\n",
       ".datatable .frame_dimensions {  background: var(--jp-border-color3);  border-top: 1px solid var(--jp-border-color0);  color: var(--jp-ui-font-color3);  display: inline-block;  opacity: 0.6;  padding: 1px 10px 1px 5px;}\n",
       "</style>\n"
      ],
      "text/plain": [
       "<IPython.core.display.HTML object>"
      ]
     },
     "metadata": {},
     "output_type": "display_data"
    }
   ],
   "source": [
    "import numpy as np \n",
    "import pandas as pd \n",
    "import vaex\n",
    "import dask.dataframe as dd \n",
    "import datatable as dt\n",
    "#import cudf\n",
    "import gc\n",
    "\n"
   ]
  },
  {
   "cell_type": "code",
   "execution_count": 2,
   "id": "0573dfeb",
   "metadata": {},
   "outputs": [],
   "source": [
    "df=pd.read_csv('creditcard.csv')"
   ]
  },
  {
   "cell_type": "code",
   "execution_count": 3,
   "id": "bac4cdc5",
   "metadata": {},
   "outputs": [
    {
     "data": {
      "text/plain": [
       "(284807, 31)"
      ]
     },
     "execution_count": 3,
     "metadata": {},
     "output_type": "execute_result"
    }
   ],
   "source": [
    "df.shape"
   ]
  },
  {
   "cell_type": "code",
   "execution_count": 4,
   "id": "4ee56cf7",
   "metadata": {},
   "outputs": [
    {
     "name": "stdout",
     "output_type": "stream",
     "text": [
      "<class 'pandas.core.frame.DataFrame'>\n",
      "RangeIndex: 284807 entries, 0 to 284806\n",
      "Data columns (total 31 columns):\n",
      " #   Column  Non-Null Count   Dtype  \n",
      "---  ------  --------------   -----  \n",
      " 0   Time    284807 non-null  float64\n",
      " 1   V1      284807 non-null  float64\n",
      " 2   V2      284807 non-null  float64\n",
      " 3   V3      284807 non-null  float64\n",
      " 4   V4      284807 non-null  float64\n",
      " 5   V5      284807 non-null  float64\n",
      " 6   V6      284807 non-null  float64\n",
      " 7   V7      284807 non-null  float64\n",
      " 8   V8      284807 non-null  float64\n",
      " 9   V9      284807 non-null  float64\n",
      " 10  V10     284807 non-null  float64\n",
      " 11  V11     284807 non-null  float64\n",
      " 12  V12     284807 non-null  float64\n",
      " 13  V13     284807 non-null  float64\n",
      " 14  V14     284807 non-null  float64\n",
      " 15  V15     284807 non-null  float64\n",
      " 16  V16     284807 non-null  float64\n",
      " 17  V17     284807 non-null  float64\n",
      " 18  V18     284807 non-null  float64\n",
      " 19  V19     284807 non-null  float64\n",
      " 20  V20     284807 non-null  float64\n",
      " 21  V21     284807 non-null  float64\n",
      " 22  V22     284807 non-null  float64\n",
      " 23  V23     284807 non-null  float64\n",
      " 24  V24     284807 non-null  float64\n",
      " 25  V25     284807 non-null  float64\n",
      " 26  V26     284807 non-null  float64\n",
      " 27  V27     284807 non-null  float64\n",
      " 28  V28     284807 non-null  float64\n",
      " 29  Amount  284807 non-null  float64\n",
      " 30  Class   284807 non-null  int64  \n",
      "dtypes: float64(30), int64(1)\n",
      "memory usage: 67.4 MB\n"
     ]
    }
   ],
   "source": [
    "df.info(memory_usage='deep')"
   ]
  },
  {
   "cell_type": "code",
   "execution_count": 5,
   "id": "218f81b0",
   "metadata": {},
   "outputs": [
    {
     "data": {
      "text/html": [
       "<table>\n",
       "<thead>\n",
       "<tr><th>#                            </th><th style=\"text-align: right;\">  Time</th><th style=\"text-align: right;\">       V1</th><th style=\"text-align: right;\">       V2</th><th style=\"text-align: right;\">       V3</th><th style=\"text-align: right;\">       V4</th><th style=\"text-align: right;\">       V5</th><th style=\"text-align: right;\">       V6</th><th style=\"text-align: right;\">        V7</th><th style=\"text-align: right;\">        V8</th><th style=\"text-align: right;\">       V9</th><th style=\"text-align: right;\">      V10</th><th style=\"text-align: right;\">      V11</th><th style=\"text-align: right;\">       V12</th><th style=\"text-align: right;\">      V13</th><th style=\"text-align: right;\">       V14</th><th style=\"text-align: right;\">       V15</th><th style=\"text-align: right;\">       V16</th><th style=\"text-align: right;\">       V17</th><th style=\"text-align: right;\">       V18</th><th style=\"text-align: right;\">       V19</th><th style=\"text-align: right;\">       V20</th><th style=\"text-align: right;\">       V21</th><th style=\"text-align: right;\">       V22</th><th style=\"text-align: right;\">       V23</th><th style=\"text-align: right;\">      V24</th><th style=\"text-align: right;\">       V25</th><th style=\"text-align: right;\">       V26</th><th style=\"text-align: right;\">       V27</th><th style=\"text-align: right;\">       V28</th><th style=\"text-align: right;\">  Amount</th><th style=\"text-align: right;\">  Class</th></tr>\n",
       "</thead>\n",
       "<tbody>\n",
       "<tr><td><i style='opacity: 0.6'>0</i></td><td style=\"text-align: right;\">133236</td><td style=\"text-align: right;\"> 0.984382</td><td style=\"text-align: right;\">-0.984506</td><td style=\"text-align: right;\">-1.54232 </td><td style=\"text-align: right;\"> 3.88619 </td><td style=\"text-align: right;\"> 0.524369</td><td style=\"text-align: right;\"> 0.877043</td><td style=\"text-align: right;\"> 0.857381 </td><td style=\"text-align: right;\">-0.0471889</td><td style=\"text-align: right;\">-1.28993 </td><td style=\"text-align: right;\"> 1.34185 </td><td style=\"text-align: right;\"> 0.028196</td><td style=\"text-align: right;\"> 0.583251 </td><td style=\"text-align: right;\"> 0.417668</td><td style=\"text-align: right;\"> 0.423975 </td><td style=\"text-align: right;\">-1.75017  </td><td style=\"text-align: right;\"> 1.04399  </td><td style=\"text-align: right;\">-1.09652  </td><td style=\"text-align: right;\">-0.0890316</td><td style=\"text-align: right;\">-0.926034 </td><td style=\"text-align: right;\"> 0.7742   </td><td style=\"text-align: right;\"> 0.0777587</td><td style=\"text-align: right;\">-0.892798 </td><td style=\"text-align: right;\">-0.17799  </td><td style=\"text-align: right;\"> 0.161153</td><td style=\"text-align: right;\">-0.259299 </td><td style=\"text-align: right;\">-0.338523 </td><td style=\"text-align: right;\">-0.138552 </td><td style=\"text-align: right;\"> 0.031279 </td><td style=\"text-align: right;\">  495.74</td><td style=\"text-align: right;\">      0</td></tr>\n",
       "<tr><td><i style='opacity: 0.6'>1</i></td><td style=\"text-align: right;\">133237</td><td style=\"text-align: right;\">-2.02723 </td><td style=\"text-align: right;\"> 0.789398</td><td style=\"text-align: right;\"> 0.871372</td><td style=\"text-align: right;\"> 1.1436  </td><td style=\"text-align: right;\">-0.687666</td><td style=\"text-align: right;\"> 0.664077</td><td style=\"text-align: right;\"> 0.0858921</td><td style=\"text-align: right;\"> 1.13572  </td><td style=\"text-align: right;\">-0.328196</td><td style=\"text-align: right;\">-0.728165</td><td style=\"text-align: right;\">-0.320168</td><td style=\"text-align: right;\"> 0.564518 </td><td style=\"text-align: right;\">-1.1357  </td><td style=\"text-align: right;\"> 0.6614   </td><td style=\"text-align: right;\">-1.35097  </td><td style=\"text-align: right;\">-0.328318 </td><td style=\"text-align: right;\"> 0.428279 </td><td style=\"text-align: right;\"> 0.138057 </td><td style=\"text-align: right;\"> 1.65706  </td><td style=\"text-align: right;\">-0.0709318</td><td style=\"text-align: right;\">-0.438663 </td><td style=\"text-align: right;\">-1.33996  </td><td style=\"text-align: right;\"> 0.0510174</td><td style=\"text-align: right;\">-0.48507 </td><td style=\"text-align: right;\"> 0.425289 </td><td style=\"text-align: right;\">-0.78127  </td><td style=\"text-align: right;\"> 0.064064 </td><td style=\"text-align: right;\">-0.167272 </td><td style=\"text-align: right;\">  116.23</td><td style=\"text-align: right;\">      0</td></tr>\n",
       "<tr><td><i style='opacity: 0.6'>2</i></td><td style=\"text-align: right;\">133237</td><td style=\"text-align: right;\"> 1.18187 </td><td style=\"text-align: right;\">-0.866624</td><td style=\"text-align: right;\">-3.69598 </td><td style=\"text-align: right;\"> 0.764069</td><td style=\"text-align: right;\"> 0.916832</td><td style=\"text-align: right;\">-0.908053</td><td style=\"text-align: right;\"> 1.16777  </td><td style=\"text-align: right;\">-0.446382 </td><td style=\"text-align: right;\">-0.194159</td><td style=\"text-align: right;\">-1.27714 </td><td style=\"text-align: right;\"> 1.20968 </td><td style=\"text-align: right;\"> 0.442408 </td><td style=\"text-align: right;\"> 0.852132</td><td style=\"text-align: right;\">-2.775    </td><td style=\"text-align: right;\">-0.135522 </td><td style=\"text-align: right;\"> 1.33998  </td><td style=\"text-align: right;\"> 1.61723  </td><td style=\"text-align: right;\"> 1.65087  </td><td style=\"text-align: right;\"> 0.0184309</td><td style=\"text-align: right;\"> 0.947209 </td><td style=\"text-align: right;\"> 0.157848 </td><td style=\"text-align: right;\">-0.437339 </td><td style=\"text-align: right;\">-0.536194 </td><td style=\"text-align: right;\">-1.20799 </td><td style=\"text-align: right;\"> 0.051041 </td><td style=\"text-align: right;\"> 0.686621 </td><td style=\"text-align: right;\">-0.151719 </td><td style=\"text-align: right;\"> 0.0622456</td><td style=\"text-align: right;\">  480   </td><td style=\"text-align: right;\">      0</td></tr>\n",
       "<tr><td><i style='opacity: 0.6'>3</i></td><td style=\"text-align: right;\">133238</td><td style=\"text-align: right;\"> 2.29776 </td><td style=\"text-align: right;\">-1.34119 </td><td style=\"text-align: right;\">-1.85112 </td><td style=\"text-align: right;\">-1.66972 </td><td style=\"text-align: right;\">-0.564445</td><td style=\"text-align: right;\">-0.769775</td><td style=\"text-align: right;\">-0.514819 </td><td style=\"text-align: right;\">-0.402028 </td><td style=\"text-align: right;\">-1.48896 </td><td style=\"text-align: right;\"> 1.58614 </td><td style=\"text-align: right;\">-1.8728  </td><td style=\"text-align: right;\">-1.09845  </td><td style=\"text-align: right;\"> 0.506229</td><td style=\"text-align: right;\">-0.198806 </td><td style=\"text-align: right;\">-0.415369 </td><td style=\"text-align: right;\">-0.613687 </td><td style=\"text-align: right;\"> 0.292192 </td><td style=\"text-align: right;\">-0.169652 </td><td style=\"text-align: right;\"> 0.437143 </td><td style=\"text-align: right;\">-0.31411  </td><td style=\"text-align: right;\">-0.339445 </td><td style=\"text-align: right;\">-0.584873 </td><td style=\"text-align: right;\"> 0.0670696</td><td style=\"text-align: right;\">-1.02809 </td><td style=\"text-align: right;\"> 0.0462116</td><td style=\"text-align: right;\">-0.180829 </td><td style=\"text-align: right;\">-0.0296872</td><td style=\"text-align: right;\">-0.0609511</td><td style=\"text-align: right;\">   69.99</td><td style=\"text-align: right;\">      0</td></tr>\n",
       "<tr><td><i style='opacity: 0.6'>4</i></td><td style=\"text-align: right;\">133238</td><td style=\"text-align: right;\">-1.4329  </td><td style=\"text-align: right;\">-0.747642</td><td style=\"text-align: right;\"> 1.47412 </td><td style=\"text-align: right;\">-0.691367</td><td style=\"text-align: right;\"> 2.03138 </td><td style=\"text-align: right;\"> 0.575362</td><td style=\"text-align: right;\">-0.664974 </td><td style=\"text-align: right;\"> 0.683115 </td><td style=\"text-align: right;\"> 0.361599</td><td style=\"text-align: right;\">-1.03455 </td><td style=\"text-align: right;\">-0.430553</td><td style=\"text-align: right;\"> 0.0563906</td><td style=\"text-align: right;\">-0.474379</td><td style=\"text-align: right;\"> 0.178945 </td><td style=\"text-align: right;\"> 1.55323  </td><td style=\"text-align: right;\">-0.587939 </td><td style=\"text-align: right;\"> 0.16327  </td><td style=\"text-align: right;\">-1.21842  </td><td style=\"text-align: right;\">-1.36354  </td><td style=\"text-align: right;\"> 0.0967582</td><td style=\"text-align: right;\"> 0.090187 </td><td style=\"text-align: right;\">-0.0442384</td><td style=\"text-align: right;\"> 0.250754 </td><td style=\"text-align: right;\">-0.410637</td><td style=\"text-align: right;\">-0.440858 </td><td style=\"text-align: right;\">-0.537644 </td><td style=\"text-align: right;\"> 0.143013 </td><td style=\"text-align: right;\"> 0.161502 </td><td style=\"text-align: right;\">    1.18</td><td style=\"text-align: right;\">      0</td></tr>\n",
       "<tr><td><i style='opacity: 0.6'>5</i></td><td style=\"text-align: right;\">133238</td><td style=\"text-align: right;\"> 2.00345 </td><td style=\"text-align: right;\">-0.471342</td><td style=\"text-align: right;\">-0.560289</td><td style=\"text-align: right;\"> 0.171999</td><td style=\"text-align: right;\">-0.357993</td><td style=\"text-align: right;\"> 0.146714</td><td style=\"text-align: right;\">-0.729479 </td><td style=\"text-align: right;\"> 0.118459 </td><td style=\"text-align: right;\"> 0.935436</td><td style=\"text-align: right;\"> 0.20269 </td><td style=\"text-align: right;\"> 0.194257</td><td style=\"text-align: right;\"> 0.858309 </td><td style=\"text-align: right;\"> 0.383868</td><td style=\"text-align: right;\">-0.0604327</td><td style=\"text-align: right;\">-0.0770796</td><td style=\"text-align: right;\"> 0.708777 </td><td style=\"text-align: right;\">-1.01724  </td><td style=\"text-align: right;\"> 0.718674 </td><td style=\"text-align: right;\"> 0.131988 </td><td style=\"text-align: right;\">-0.156837 </td><td style=\"text-align: right;\"> 0.257181 </td><td style=\"text-align: right;\"> 0.940437 </td><td style=\"text-align: right;\"> 0.0218266</td><td style=\"text-align: right;\">-0.728228</td><td style=\"text-align: right;\">-0.156791 </td><td style=\"text-align: right;\"> 0.672902 </td><td style=\"text-align: right;\">-0.0238589</td><td style=\"text-align: right;\">-0.0670935</td><td style=\"text-align: right;\">    5.99</td><td style=\"text-align: right;\">      0</td></tr>\n",
       "<tr><td><i style='opacity: 0.6'>6</i></td><td style=\"text-align: right;\">133239</td><td style=\"text-align: right;\"> 0.198741</td><td style=\"text-align: right;\"> 0.95964 </td><td style=\"text-align: right;\">-1.29019 </td><td style=\"text-align: right;\">-0.517355</td><td style=\"text-align: right;\"> 0.562569</td><td style=\"text-align: right;\">-0.789601</td><td style=\"text-align: right;\"> 0.307364 </td><td style=\"text-align: right;\"> 0.439689 </td><td style=\"text-align: right;\">-0.335551</td><td style=\"text-align: right;\">-0.886805</td><td style=\"text-align: right;\"> 0.850348</td><td style=\"text-align: right;\">-0.172374 </td><td style=\"text-align: right;\">-1.33336 </td><td style=\"text-align: right;\">-0.273076 </td><td style=\"text-align: right;\">-0.263256 </td><td style=\"text-align: right;\"> 0.886146 </td><td style=\"text-align: right;\"> 0.348702 </td><td style=\"text-align: right;\"> 1.08438  </td><td style=\"text-align: right;\">-0.578943 </td><td style=\"text-align: right;\">-0.355241 </td><td style=\"text-align: right;\"> 0.341895 </td><td style=\"text-align: right;\"> 0.825452 </td><td style=\"text-align: right;\"> 0.032946 </td><td style=\"text-align: right;\"> 0.617426</td><td style=\"text-align: right;\">-0.697738 </td><td style=\"text-align: right;\"> 0.468697 </td><td style=\"text-align: right;\">-0.123135 </td><td style=\"text-align: right;\">-0.0392826</td><td style=\"text-align: right;\">    1.5 </td><td style=\"text-align: right;\">      0</td></tr>\n",
       "<tr><td><i style='opacity: 0.6'>7</i></td><td style=\"text-align: right;\">133240</td><td style=\"text-align: right;\"> 2.22694 </td><td style=\"text-align: right;\">-1.45391 </td><td style=\"text-align: right;\">-0.412965</td><td style=\"text-align: right;\">-1.65078 </td><td style=\"text-align: right;\">-1.48154 </td><td style=\"text-align: right;\">-0.314712</td><td style=\"text-align: right;\">-1.41736  </td><td style=\"text-align: right;\">-0.0244415</td><td style=\"text-align: right;\">-1.29115 </td><td style=\"text-align: right;\"> 1.66878 </td><td style=\"text-align: right;\"> 0.565266</td><td style=\"text-align: right;\"> 0.20351  </td><td style=\"text-align: right;\"> 1.04468 </td><td style=\"text-align: right;\">-0.53065  </td><td style=\"text-align: right;\">-0.674972 </td><td style=\"text-align: right;\"> 0.0150334</td><td style=\"text-align: right;\">-0.0177115</td><td style=\"text-align: right;\"> 0.358135 </td><td style=\"text-align: right;\"> 0.261195 </td><td style=\"text-align: right;\">-0.36133  </td><td style=\"text-align: right;\">-0.362057 </td><td style=\"text-align: right;\">-0.587394 </td><td style=\"text-align: right;\"> 0.400875 </td><td style=\"text-align: right;\">-0.390999</td><td style=\"text-align: right;\">-0.581962 </td><td style=\"text-align: right;\">-0.48615  </td><td style=\"text-align: right;\"> 0.0360095</td><td style=\"text-align: right;\">-0.0454474</td><td style=\"text-align: right;\">   22.4 </td><td style=\"text-align: right;\">      0</td></tr>\n",
       "<tr><td><i style='opacity: 0.6'>8</i></td><td style=\"text-align: right;\">133240</td><td style=\"text-align: right;\">-1.14743 </td><td style=\"text-align: right;\"> 1.8529  </td><td style=\"text-align: right;\"> 0.76209 </td><td style=\"text-align: right;\"> 2.51226 </td><td style=\"text-align: right;\"> 1.28948 </td><td style=\"text-align: right;\"> 0.206287</td><td style=\"text-align: right;\"> 1.08248  </td><td style=\"text-align: right;\"> 0.463284 </td><td style=\"text-align: right;\">-2.63081 </td><td style=\"text-align: right;\"> 0.454076</td><td style=\"text-align: right;\">-0.2316  </td><td style=\"text-align: right;\">-0.27739  </td><td style=\"text-align: right;\">-0.701049</td><td style=\"text-align: right;\"> 0.902635 </td><td style=\"text-align: right;\">-2.03521  </td><td style=\"text-align: right;\"> 0.714222 </td><td style=\"text-align: right;\">-0.728048 </td><td style=\"text-align: right;\"> 0.308954 </td><td style=\"text-align: right;\">-1.17144  </td><td style=\"text-align: right;\">-0.270579 </td><td style=\"text-align: right;\"> 0.343669 </td><td style=\"text-align: right;\"> 0.767882 </td><td style=\"text-align: right;\">-0.711639 </td><td style=\"text-align: right;\">-0.380981</td><td style=\"text-align: right;\"> 1.23488  </td><td style=\"text-align: right;\"> 0.424665 </td><td style=\"text-align: right;\">-0.164408 </td><td style=\"text-align: right;\">-0.0543208</td><td style=\"text-align: right;\">    4   </td><td style=\"text-align: right;\">      0</td></tr>\n",
       "<tr><td><i style='opacity: 0.6'>9</i></td><td style=\"text-align: right;\">133240</td><td style=\"text-align: right;\"> 2.09854 </td><td style=\"text-align: right;\"> 0.206439</td><td style=\"text-align: right;\">-2.51674 </td><td style=\"text-align: right;\"> 0.172201</td><td style=\"text-align: right;\"> 1.0544  </td><td style=\"text-align: right;\">-1.06381 </td><td style=\"text-align: right;\"> 0.908907 </td><td style=\"text-align: right;\">-0.439228 </td><td style=\"text-align: right;\">-0.228676</td><td style=\"text-align: right;\"> 0.224821</td><td style=\"text-align: right;\"> 1.0003  </td><td style=\"text-align: right;\"> 1.01172  </td><td style=\"text-align: right;\">-0.1427  </td><td style=\"text-align: right;\"> 1.05314  </td><td style=\"text-align: right;\">-0.757539 </td><td style=\"text-align: right;\">-0.892488 </td><td style=\"text-align: right;\">-0.315367 </td><td style=\"text-align: right;\">-0.115562 </td><td style=\"text-align: right;\"> 0.312147 </td><td style=\"text-align: right;\">-0.237719 </td><td style=\"text-align: right;\"> 0.346656 </td><td style=\"text-align: right;\"> 1.17308  </td><td style=\"text-align: right;\">-0.186339 </td><td style=\"text-align: right;\"> 0.787808</td><td style=\"text-align: right;\"> 0.804446 </td><td style=\"text-align: right;\"> 0.0718993</td><td style=\"text-align: right;\">-0.0807589</td><td style=\"text-align: right;\">-0.0887588</td><td style=\"text-align: right;\">    1.39</td><td style=\"text-align: right;\">      0</td></tr>\n",
       "</tbody>\n",
       "</table>"
      ],
      "text/plain": [
       "  #    Time         V1         V2         V3         V4         V5         V6          V7          V8         V9        V10        V11         V12        V13         V14         V15         V16         V17         V18         V19         V20         V21         V22         V23        V24         V25         V26         V27         V28    Amount    Class\n",
       "  0  133236   0.984382  -0.984506  -1.54232    3.88619    0.524369   0.877043   0.857381   -0.0471889  -1.28993    1.34185    0.028196   0.583251    0.417668   0.423975   -1.75017     1.04399    -1.09652    -0.0890316  -0.926034    0.7742      0.0777587  -0.892798   -0.17799     0.161153  -0.259299   -0.338523   -0.138552    0.031279     495.74        0\n",
       "  1  133237  -2.02723    0.789398   0.871372   1.1436    -0.687666   0.664077   0.0858921   1.13572    -0.328196  -0.728165  -0.320168   0.564518   -1.1357     0.6614     -1.35097    -0.328318    0.428279    0.138057    1.65706    -0.0709318  -0.438663   -1.33996     0.0510174  -0.48507    0.425289   -0.78127     0.064064   -0.167272     116.23        0\n",
       "  2  133237   1.18187   -0.866624  -3.69598    0.764069   0.916832  -0.908053   1.16777    -0.446382   -0.194159  -1.27714    1.20968    0.442408    0.852132  -2.775      -0.135522    1.33998     1.61723     1.65087     0.0184309   0.947209    0.157848   -0.437339   -0.536194   -1.20799    0.051041    0.686621   -0.151719    0.0622456    480           0\n",
       "  3  133238   2.29776   -1.34119   -1.85112   -1.66972   -0.564445  -0.769775  -0.514819   -0.402028   -1.48896    1.58614   -1.8728    -1.09845     0.506229  -0.198806   -0.415369   -0.613687    0.292192   -0.169652    0.437143   -0.31411    -0.339445   -0.584873    0.0670696  -1.02809    0.0462116  -0.180829   -0.0296872  -0.0609511     69.99        0\n",
       "  4  133238  -1.4329    -0.747642   1.47412   -0.691367   2.03138    0.575362  -0.664974    0.683115    0.361599  -1.03455   -0.430553   0.0563906  -0.474379   0.178945    1.55323    -0.587939    0.16327    -1.21842    -1.36354     0.0967582   0.090187   -0.0442384   0.250754   -0.410637  -0.440858   -0.537644    0.143013    0.161502       1.18        0\n",
       "  5  133238   2.00345   -0.471342  -0.560289   0.171999  -0.357993   0.146714  -0.729479    0.118459    0.935436   0.20269    0.194257   0.858309    0.383868  -0.0604327  -0.0770796   0.708777   -1.01724     0.718674    0.131988   -0.156837    0.257181    0.940437    0.0218266  -0.728228  -0.156791    0.672902   -0.0238589  -0.0670935      5.99        0\n",
       "  6  133239   0.198741   0.95964   -1.29019   -0.517355   0.562569  -0.789601   0.307364    0.439689   -0.335551  -0.886805   0.850348  -0.172374   -1.33336   -0.273076   -0.263256    0.886146    0.348702    1.08438    -0.578943   -0.355241    0.341895    0.825452    0.032946    0.617426  -0.697738    0.468697   -0.123135   -0.0392826      1.5         0\n",
       "  7  133240   2.22694   -1.45391   -0.412965  -1.65078   -1.48154   -0.314712  -1.41736    -0.0244415  -1.29115    1.66878    0.565266   0.20351     1.04468   -0.53065    -0.674972    0.0150334  -0.0177115   0.358135    0.261195   -0.36133    -0.362057   -0.587394    0.400875   -0.390999  -0.581962   -0.48615     0.0360095  -0.0454474     22.4         0\n",
       "  8  133240  -1.14743    1.8529     0.76209    2.51226    1.28948    0.206287   1.08248     0.463284   -2.63081    0.454076  -0.2316    -0.27739    -0.701049   0.902635   -2.03521     0.714222   -0.728048    0.308954   -1.17144    -0.270579    0.343669    0.767882   -0.711639   -0.380981   1.23488     0.424665   -0.164408   -0.0543208      4           0\n",
       "  9  133240   2.09854    0.206439  -2.51674    0.172201   1.0544    -1.06381    0.908907   -0.439228   -0.228676   0.224821   1.0003     1.01172    -0.1427     1.05314    -0.757539   -0.892488   -0.315367   -0.115562    0.312147   -0.237719    0.346656    1.17308    -0.186339    0.787808   0.804446    0.0718993  -0.0807589  -0.0887588      1.39        0"
      ]
     },
     "execution_count": 5,
     "metadata": {},
     "output_type": "execute_result"
    }
   ],
   "source": [
    "vaex_df=vaex.from_csv(\"creditcard.csv\",convert=True)\n",
    "vaex_df=vaex.open('creditcard.csv_chunk_2.hdf5')\n",
    "vaex_df.head()"
   ]
  },
  {
   "cell_type": "code",
   "execution_count": 7,
   "id": "b540b80d",
   "metadata": {},
   "outputs": [
    {
     "data": {
      "text/plain": [
       "Index(['Time', 'V1', 'V2', 'V3', 'V4', 'V5', 'V6', 'V7', 'V8', 'V9', 'V10',\n",
       "       'V11', 'V12', 'V13', 'V14', 'V15', 'V16', 'V17', 'V18', 'V19', 'V20',\n",
       "       'V21', 'V22', 'V23', 'V24', 'V25', 'V26', 'V27', 'V28', 'Amount',\n",
       "       'Class'],\n",
       "      dtype='object')"
      ]
     },
     "execution_count": 7,
     "metadata": {},
     "output_type": "execute_result"
    }
   ],
   "source": [
    "df.columns"
   ]
  },
  {
   "cell_type": "code",
   "execution_count": 8,
   "id": "5b43fc51",
   "metadata": {},
   "outputs": [
    {
     "name": "stdout",
     "output_type": "stream",
     "text": [
      "<class 'pandas.core.frame.DataFrame'>\n",
      "RangeIndex: 284807 entries, 0 to 284806\n",
      "Data columns (total 31 columns):\n",
      " #   Column  Non-Null Count   Dtype  \n",
      "---  ------  --------------   -----  \n",
      " 0   Time    284807 non-null  float64\n",
      " 1   V1      284807 non-null  float64\n",
      " 2   V2      284807 non-null  float64\n",
      " 3   V3      284807 non-null  float64\n",
      " 4   V4      284807 non-null  float64\n",
      " 5   V5      284807 non-null  float64\n",
      " 6   V6      284807 non-null  float64\n",
      " 7   V7      284807 non-null  float64\n",
      " 8   V8      284807 non-null  float64\n",
      " 9   V9      284807 non-null  float64\n",
      " 10  V10     284807 non-null  float64\n",
      " 11  V11     284807 non-null  float64\n",
      " 12  V12     284807 non-null  float64\n",
      " 13  V13     284807 non-null  float64\n",
      " 14  V14     284807 non-null  float64\n",
      " 15  V15     284807 non-null  float64\n",
      " 16  V16     284807 non-null  float64\n",
      " 17  V17     284807 non-null  float64\n",
      " 18  V18     284807 non-null  float64\n",
      " 19  V19     284807 non-null  float64\n",
      " 20  V20     284807 non-null  float64\n",
      " 21  V21     284807 non-null  float64\n",
      " 22  V22     284807 non-null  float64\n",
      " 23  V23     284807 non-null  float64\n",
      " 24  V24     284807 non-null  float64\n",
      " 25  V25     284807 non-null  float64\n",
      " 26  V26     284807 non-null  float64\n",
      " 27  V27     284807 non-null  float64\n",
      " 28  V28     284807 non-null  float64\n",
      " 29  Amount  284807 non-null  float64\n",
      " 30  Class   284807 non-null  int64  \n",
      "dtypes: float64(30), int64(1)\n",
      "memory usage: 67.4 MB\n"
     ]
    }
   ],
   "source": [
    "df.info()"
   ]
  },
  {
   "cell_type": "code",
   "execution_count": 24,
   "id": "94e11065",
   "metadata": {},
   "outputs": [],
   "source": [
    "data_chunk=pd.read_csv('creditcard.csv',chunksize=100000)"
   ]
  },
  {
   "cell_type": "code",
   "execution_count": 25,
   "id": "db5869ee",
   "metadata": {},
   "outputs": [],
   "source": [
    "chunk_data=[chunk for chunk in data_chunk]"
   ]
  },
  {
   "cell_type": "code",
   "execution_count": 28,
   "id": "78e203a4",
   "metadata": {},
   "outputs": [],
   "source": [
    "df1=pd.concat(chunk_data)"
   ]
  },
  {
   "cell_type": "code",
   "execution_count": 32,
   "id": "f0e0dcb3",
   "metadata": {},
   "outputs": [
    {
     "name": "stdout",
     "output_type": "stream",
     "text": [
      "<class 'pandas.core.frame.DataFrame'>\n",
      "RangeIndex: 284807 entries, 0 to 284806\n",
      "Data columns (total 31 columns):\n",
      " #   Column  Non-Null Count   Dtype  \n",
      "---  ------  --------------   -----  \n",
      " 0   Time    284807 non-null  float64\n",
      " 1   V1      284807 non-null  float64\n",
      " 2   V2      284807 non-null  float64\n",
      " 3   V3      284807 non-null  float64\n",
      " 4   V4      284807 non-null  float64\n",
      " 5   V5      284807 non-null  float64\n",
      " 6   V6      284807 non-null  float64\n",
      " 7   V7      284807 non-null  float64\n",
      " 8   V8      284807 non-null  float64\n",
      " 9   V9      284807 non-null  float64\n",
      " 10  V10     284807 non-null  float64\n",
      " 11  V11     284807 non-null  float64\n",
      " 12  V12     284807 non-null  float64\n",
      " 13  V13     284807 non-null  float64\n",
      " 14  V14     284807 non-null  float64\n",
      " 15  V15     284807 non-null  float64\n",
      " 16  V16     284807 non-null  float64\n",
      " 17  V17     284807 non-null  float64\n",
      " 18  V18     284807 non-null  float64\n",
      " 19  V19     284807 non-null  float64\n",
      " 20  V20     284807 non-null  float64\n",
      " 21  V21     284807 non-null  float64\n",
      " 22  V22     284807 non-null  float64\n",
      " 23  V23     284807 non-null  float64\n",
      " 24  V24     284807 non-null  float64\n",
      " 25  V25     284807 non-null  float64\n",
      " 26  V26     284807 non-null  float64\n",
      " 27  V27     284807 non-null  float64\n",
      " 28  V28     284807 non-null  float64\n",
      " 29  Amount  284807 non-null  float64\n",
      " 30  Class   284807 non-null  int64  \n",
      "dtypes: float64(30), int64(1)\n",
      "memory usage: 67.4 MB\n"
     ]
    }
   ],
   "source": [
    "df1.info()"
   ]
  },
  {
   "cell_type": "code",
   "execution_count": 31,
   "id": "f10092de",
   "metadata": {},
   "outputs": [
    {
     "name": "stdout",
     "output_type": "stream",
     "text": [
      "<class 'pandas.core.frame.DataFrame'>\n",
      "RangeIndex: 284807 entries, 0 to 284806\n",
      "Data columns (total 31 columns):\n",
      " #   Column  Non-Null Count   Dtype  \n",
      "---  ------  --------------   -----  \n",
      " 0   Time    284807 non-null  float64\n",
      " 1   V1      284807 non-null  float64\n",
      " 2   V2      284807 non-null  float64\n",
      " 3   V3      284807 non-null  float64\n",
      " 4   V4      284807 non-null  float64\n",
      " 5   V5      284807 non-null  float64\n",
      " 6   V6      284807 non-null  float64\n",
      " 7   V7      284807 non-null  float64\n",
      " 8   V8      284807 non-null  float64\n",
      " 9   V9      284807 non-null  float64\n",
      " 10  V10     284807 non-null  float64\n",
      " 11  V11     284807 non-null  float64\n",
      " 12  V12     284807 non-null  float64\n",
      " 13  V13     284807 non-null  float64\n",
      " 14  V14     284807 non-null  float64\n",
      " 15  V15     284807 non-null  float64\n",
      " 16  V16     284807 non-null  float64\n",
      " 17  V17     284807 non-null  float64\n",
      " 18  V18     284807 non-null  float64\n",
      " 19  V19     284807 non-null  float64\n",
      " 20  V20     284807 non-null  float64\n",
      " 21  V21     284807 non-null  float64\n",
      " 22  V22     284807 non-null  float64\n",
      " 23  V23     284807 non-null  float64\n",
      " 24  V24     284807 non-null  float64\n",
      " 25  V25     284807 non-null  float64\n",
      " 26  V26     284807 non-null  float64\n",
      " 27  V27     284807 non-null  float64\n",
      " 28  V28     284807 non-null  float64\n",
      " 29  Amount  284807 non-null  float64\n",
      " 30  Class   284807 non-null  int64  \n",
      "dtypes: float64(30), int64(1)\n",
      "memory usage: 67.4 MB\n"
     ]
    }
   ],
   "source": [
    "df1.info(memory_usage='deep')"
   ]
  },
  {
   "cell_type": "code",
   "execution_count": 10,
   "id": "f2667762",
   "metadata": {},
   "outputs": [],
   "source": [
    "df2=dd.read_csv('creditcard.csv')"
   ]
  },
  {
   "cell_type": "code",
   "execution_count": 11,
   "id": "4e821203",
   "metadata": {},
   "outputs": [
    {
     "ename": "ValueError",
     "evalue": "Mismatched dtypes found in `pd.read_csv`/`pd.read_table`.\n\n+--------+---------+----------+\n| Column | Found   | Expected |\n+--------+---------+----------+\n| Time   | float64 | int64    |\n+--------+---------+----------+\n\nUsually this is due to dask's dtype inference failing, and\n*may* be fixed by specifying dtypes manually by adding:\n\ndtype={'Time': 'float64'}\n\nto the call to `read_csv`/`read_table`.\n\nAlternatively, provide `assume_missing=True` to interpret\nall unspecified integer columns as floats.",
     "output_type": "error",
     "traceback": [
      "\u001b[1;31m---------------------------------------------------------------------------\u001b[0m",
      "\u001b[1;31mValueError\u001b[0m                                Traceback (most recent call last)",
      "Input \u001b[1;32mIn [11]\u001b[0m, in \u001b[0;36m<cell line: 1>\u001b[1;34m()\u001b[0m\n\u001b[1;32m----> 1\u001b[0m \u001b[43mdf2\u001b[49m\u001b[38;5;241;43m.\u001b[39;49m\u001b[43minfo\u001b[49m\u001b[43m(\u001b[49m\u001b[43mmemory_usage\u001b[49m\u001b[38;5;241;43m=\u001b[39;49m\u001b[38;5;124;43m'\u001b[39;49m\u001b[38;5;124;43mdeep\u001b[39;49m\u001b[38;5;124;43m'\u001b[39;49m\u001b[43m)\u001b[49m\n",
      "File \u001b[1;32m~\\anaconda4\\lib\\site-packages\\dask\\dataframe\\core.py:5353\u001b[0m, in \u001b[0;36mDataFrame.info\u001b[1;34m(self, buf, verbose, memory_usage)\u001b[0m\n\u001b[0;32m   5348\u001b[0m \u001b[38;5;28;01mif\u001b[39;00m memory_usage:\n\u001b[0;32m   5349\u001b[0m     computations\u001b[38;5;241m.\u001b[39mupdate(\n\u001b[0;32m   5350\u001b[0m         {\u001b[38;5;124m\"\u001b[39m\u001b[38;5;124mmemory_usage\u001b[39m\u001b[38;5;124m\"\u001b[39m: \u001b[38;5;28mself\u001b[39m\u001b[38;5;241m.\u001b[39mmap_partitions(M\u001b[38;5;241m.\u001b[39mmemory_usage, index\u001b[38;5;241m=\u001b[39m\u001b[38;5;28;01mTrue\u001b[39;00m)}\n\u001b[0;32m   5351\u001b[0m     )\n\u001b[0;32m   5352\u001b[0m computations \u001b[38;5;241m=\u001b[39m \u001b[38;5;28mdict\u001b[39m(\n\u001b[1;32m-> 5353\u001b[0m     \u001b[38;5;28mzip\u001b[39m(computations\u001b[38;5;241m.\u001b[39mkeys(), \u001b[43mda\u001b[49m\u001b[38;5;241;43m.\u001b[39;49m\u001b[43mcompute\u001b[49m\u001b[43m(\u001b[49m\u001b[38;5;241;43m*\u001b[39;49m\u001b[43mcomputations\u001b[49m\u001b[38;5;241;43m.\u001b[39;49m\u001b[43mvalues\u001b[49m\u001b[43m(\u001b[49m\u001b[43m)\u001b[49m\u001b[43m)\u001b[49m)\n\u001b[0;32m   5354\u001b[0m )\n\u001b[0;32m   5356\u001b[0m \u001b[38;5;28;01mif\u001b[39;00m verbose:\n\u001b[0;32m   5357\u001b[0m     \u001b[38;5;28;01mimport\u001b[39;00m \u001b[38;5;21;01mtextwrap\u001b[39;00m\n",
      "File \u001b[1;32m~\\anaconda4\\lib\\site-packages\\dask\\base.py:573\u001b[0m, in \u001b[0;36mcompute\u001b[1;34m(traverse, optimize_graph, scheduler, get, *args, **kwargs)\u001b[0m\n\u001b[0;32m    570\u001b[0m     keys\u001b[38;5;241m.\u001b[39mappend(x\u001b[38;5;241m.\u001b[39m__dask_keys__())\n\u001b[0;32m    571\u001b[0m     postcomputes\u001b[38;5;241m.\u001b[39mappend(x\u001b[38;5;241m.\u001b[39m__dask_postcompute__())\n\u001b[1;32m--> 573\u001b[0m results \u001b[38;5;241m=\u001b[39m schedule(dsk, keys, \u001b[38;5;241m*\u001b[39m\u001b[38;5;241m*\u001b[39mkwargs)\n\u001b[0;32m    574\u001b[0m \u001b[38;5;28;01mreturn\u001b[39;00m repack([f(r, \u001b[38;5;241m*\u001b[39ma) \u001b[38;5;28;01mfor\u001b[39;00m r, (f, a) \u001b[38;5;129;01min\u001b[39;00m \u001b[38;5;28mzip\u001b[39m(results, postcomputes)])\n",
      "File \u001b[1;32m~\\anaconda4\\lib\\site-packages\\dask\\threaded.py:81\u001b[0m, in \u001b[0;36mget\u001b[1;34m(dsk, result, cache, num_workers, pool, **kwargs)\u001b[0m\n\u001b[0;32m     78\u001b[0m     \u001b[38;5;28;01melif\u001b[39;00m \u001b[38;5;28misinstance\u001b[39m(pool, multiprocessing\u001b[38;5;241m.\u001b[39mpool\u001b[38;5;241m.\u001b[39mPool):\n\u001b[0;32m     79\u001b[0m         pool \u001b[38;5;241m=\u001b[39m MultiprocessingPoolExecutor(pool)\n\u001b[1;32m---> 81\u001b[0m results \u001b[38;5;241m=\u001b[39m get_async(\n\u001b[0;32m     82\u001b[0m     pool\u001b[38;5;241m.\u001b[39msubmit,\n\u001b[0;32m     83\u001b[0m     pool\u001b[38;5;241m.\u001b[39m_max_workers,\n\u001b[0;32m     84\u001b[0m     dsk,\n\u001b[0;32m     85\u001b[0m     result,\n\u001b[0;32m     86\u001b[0m     cache\u001b[38;5;241m=\u001b[39mcache,\n\u001b[0;32m     87\u001b[0m     get_id\u001b[38;5;241m=\u001b[39m_thread_get_id,\n\u001b[0;32m     88\u001b[0m     pack_exception\u001b[38;5;241m=\u001b[39mpack_exception,\n\u001b[0;32m     89\u001b[0m     \u001b[38;5;241m*\u001b[39m\u001b[38;5;241m*\u001b[39mkwargs,\n\u001b[0;32m     90\u001b[0m )\n\u001b[0;32m     92\u001b[0m \u001b[38;5;66;03m# Cleanup pools associated to dead threads\u001b[39;00m\n\u001b[0;32m     93\u001b[0m \u001b[38;5;28;01mwith\u001b[39;00m pools_lock:\n",
      "File \u001b[1;32m~\\anaconda4\\lib\\site-packages\\dask\\local.py:506\u001b[0m, in \u001b[0;36mget_async\u001b[1;34m(submit, num_workers, dsk, result, cache, get_id, rerun_exceptions_locally, pack_exception, raise_exception, callbacks, dumps, loads, chunksize, **kwargs)\u001b[0m\n\u001b[0;32m    504\u001b[0m         _execute_task(task, data)  \u001b[38;5;66;03m# Re-execute locally\u001b[39;00m\n\u001b[0;32m    505\u001b[0m     \u001b[38;5;28;01melse\u001b[39;00m:\n\u001b[1;32m--> 506\u001b[0m         \u001b[43mraise_exception\u001b[49m\u001b[43m(\u001b[49m\u001b[43mexc\u001b[49m\u001b[43m,\u001b[49m\u001b[43m \u001b[49m\u001b[43mtb\u001b[49m\u001b[43m)\u001b[49m\n\u001b[0;32m    507\u001b[0m res, worker_id \u001b[38;5;241m=\u001b[39m loads(res_info)\n\u001b[0;32m    508\u001b[0m state[\u001b[38;5;124m\"\u001b[39m\u001b[38;5;124mcache\u001b[39m\u001b[38;5;124m\"\u001b[39m][key] \u001b[38;5;241m=\u001b[39m res\n",
      "File \u001b[1;32m~\\anaconda4\\lib\\site-packages\\dask\\local.py:314\u001b[0m, in \u001b[0;36mreraise\u001b[1;34m(exc, tb)\u001b[0m\n\u001b[0;32m    312\u001b[0m \u001b[38;5;28;01mif\u001b[39;00m exc\u001b[38;5;241m.\u001b[39m__traceback__ \u001b[38;5;129;01mis\u001b[39;00m \u001b[38;5;129;01mnot\u001b[39;00m tb:\n\u001b[0;32m    313\u001b[0m     \u001b[38;5;28;01mraise\u001b[39;00m exc\u001b[38;5;241m.\u001b[39mwith_traceback(tb)\n\u001b[1;32m--> 314\u001b[0m \u001b[38;5;28;01mraise\u001b[39;00m exc\n",
      "File \u001b[1;32m~\\anaconda4\\lib\\site-packages\\dask\\local.py:219\u001b[0m, in \u001b[0;36mexecute_task\u001b[1;34m(key, task_info, dumps, loads, get_id, pack_exception)\u001b[0m\n\u001b[0;32m    217\u001b[0m \u001b[38;5;28;01mtry\u001b[39;00m:\n\u001b[0;32m    218\u001b[0m     task, data \u001b[38;5;241m=\u001b[39m loads(task_info)\n\u001b[1;32m--> 219\u001b[0m     result \u001b[38;5;241m=\u001b[39m \u001b[43m_execute_task\u001b[49m\u001b[43m(\u001b[49m\u001b[43mtask\u001b[49m\u001b[43m,\u001b[49m\u001b[43m \u001b[49m\u001b[43mdata\u001b[49m\u001b[43m)\u001b[49m\n\u001b[0;32m    220\u001b[0m     \u001b[38;5;28mid\u001b[39m \u001b[38;5;241m=\u001b[39m get_id()\n\u001b[0;32m    221\u001b[0m     result \u001b[38;5;241m=\u001b[39m dumps((result, \u001b[38;5;28mid\u001b[39m))\n",
      "File \u001b[1;32m~\\anaconda4\\lib\\site-packages\\dask\\core.py:119\u001b[0m, in \u001b[0;36m_execute_task\u001b[1;34m(arg, cache, dsk)\u001b[0m\n\u001b[0;32m    115\u001b[0m     func, args \u001b[38;5;241m=\u001b[39m arg[\u001b[38;5;241m0\u001b[39m], arg[\u001b[38;5;241m1\u001b[39m:]\n\u001b[0;32m    116\u001b[0m     \u001b[38;5;66;03m# Note: Don't assign the subtask results to a variable. numpy detects\u001b[39;00m\n\u001b[0;32m    117\u001b[0m     \u001b[38;5;66;03m# temporaries by their reference count and can execute certain\u001b[39;00m\n\u001b[0;32m    118\u001b[0m     \u001b[38;5;66;03m# operations in-place.\u001b[39;00m\n\u001b[1;32m--> 119\u001b[0m     \u001b[38;5;28;01mreturn\u001b[39;00m \u001b[43mfunc\u001b[49m\u001b[43m(\u001b[49m\u001b[38;5;241;43m*\u001b[39;49m\u001b[43m(\u001b[49m\u001b[43m_execute_task\u001b[49m\u001b[43m(\u001b[49m\u001b[43ma\u001b[49m\u001b[43m,\u001b[49m\u001b[43m \u001b[49m\u001b[43mcache\u001b[49m\u001b[43m)\u001b[49m\u001b[43m \u001b[49m\u001b[38;5;28;43;01mfor\u001b[39;49;00m\u001b[43m \u001b[49m\u001b[43ma\u001b[49m\u001b[43m \u001b[49m\u001b[38;5;129;43;01min\u001b[39;49;00m\u001b[43m \u001b[49m\u001b[43margs\u001b[49m\u001b[43m)\u001b[49m\u001b[43m)\u001b[49m\n\u001b[0;32m    120\u001b[0m \u001b[38;5;28;01melif\u001b[39;00m \u001b[38;5;129;01mnot\u001b[39;00m ishashable(arg):\n\u001b[0;32m    121\u001b[0m     \u001b[38;5;28;01mreturn\u001b[39;00m arg\n",
      "File \u001b[1;32m~\\anaconda4\\lib\\site-packages\\dask\\optimization.py:969\u001b[0m, in \u001b[0;36mSubgraphCallable.__call__\u001b[1;34m(self, *args)\u001b[0m\n\u001b[0;32m    967\u001b[0m \u001b[38;5;28;01mif\u001b[39;00m \u001b[38;5;129;01mnot\u001b[39;00m \u001b[38;5;28mlen\u001b[39m(args) \u001b[38;5;241m==\u001b[39m \u001b[38;5;28mlen\u001b[39m(\u001b[38;5;28mself\u001b[39m\u001b[38;5;241m.\u001b[39minkeys):\n\u001b[0;32m    968\u001b[0m     \u001b[38;5;28;01mraise\u001b[39;00m \u001b[38;5;167;01mValueError\u001b[39;00m(\u001b[38;5;124m\"\u001b[39m\u001b[38;5;124mExpected \u001b[39m\u001b[38;5;132;01m%d\u001b[39;00m\u001b[38;5;124m args, got \u001b[39m\u001b[38;5;132;01m%d\u001b[39;00m\u001b[38;5;124m\"\u001b[39m \u001b[38;5;241m%\u001b[39m (\u001b[38;5;28mlen\u001b[39m(\u001b[38;5;28mself\u001b[39m\u001b[38;5;241m.\u001b[39minkeys), \u001b[38;5;28mlen\u001b[39m(args)))\n\u001b[1;32m--> 969\u001b[0m \u001b[38;5;28;01mreturn\u001b[39;00m \u001b[43mcore\u001b[49m\u001b[38;5;241;43m.\u001b[39;49m\u001b[43mget\u001b[49m\u001b[43m(\u001b[49m\u001b[38;5;28;43mself\u001b[39;49m\u001b[38;5;241;43m.\u001b[39;49m\u001b[43mdsk\u001b[49m\u001b[43m,\u001b[49m\u001b[43m \u001b[49m\u001b[38;5;28;43mself\u001b[39;49m\u001b[38;5;241;43m.\u001b[39;49m\u001b[43moutkey\u001b[49m\u001b[43m,\u001b[49m\u001b[43m \u001b[49m\u001b[38;5;28;43mdict\u001b[39;49m\u001b[43m(\u001b[49m\u001b[38;5;28;43mzip\u001b[39;49m\u001b[43m(\u001b[49m\u001b[38;5;28;43mself\u001b[39;49m\u001b[38;5;241;43m.\u001b[39;49m\u001b[43minkeys\u001b[49m\u001b[43m,\u001b[49m\u001b[43m \u001b[49m\u001b[43margs\u001b[49m\u001b[43m)\u001b[49m\u001b[43m)\u001b[49m\u001b[43m)\u001b[49m\n",
      "File \u001b[1;32m~\\anaconda4\\lib\\site-packages\\dask\\core.py:149\u001b[0m, in \u001b[0;36mget\u001b[1;34m(dsk, out, cache)\u001b[0m\n\u001b[0;32m    147\u001b[0m \u001b[38;5;28;01mfor\u001b[39;00m key \u001b[38;5;129;01min\u001b[39;00m toposort(dsk):\n\u001b[0;32m    148\u001b[0m     task \u001b[38;5;241m=\u001b[39m dsk[key]\n\u001b[1;32m--> 149\u001b[0m     result \u001b[38;5;241m=\u001b[39m \u001b[43m_execute_task\u001b[49m\u001b[43m(\u001b[49m\u001b[43mtask\u001b[49m\u001b[43m,\u001b[49m\u001b[43m \u001b[49m\u001b[43mcache\u001b[49m\u001b[43m)\u001b[49m\n\u001b[0;32m    150\u001b[0m     cache[key] \u001b[38;5;241m=\u001b[39m result\n\u001b[0;32m    151\u001b[0m result \u001b[38;5;241m=\u001b[39m _execute_task(out, cache)\n",
      "File \u001b[1;32m~\\anaconda4\\lib\\site-packages\\dask\\core.py:119\u001b[0m, in \u001b[0;36m_execute_task\u001b[1;34m(arg, cache, dsk)\u001b[0m\n\u001b[0;32m    115\u001b[0m     func, args \u001b[38;5;241m=\u001b[39m arg[\u001b[38;5;241m0\u001b[39m], arg[\u001b[38;5;241m1\u001b[39m:]\n\u001b[0;32m    116\u001b[0m     \u001b[38;5;66;03m# Note: Don't assign the subtask results to a variable. numpy detects\u001b[39;00m\n\u001b[0;32m    117\u001b[0m     \u001b[38;5;66;03m# temporaries by their reference count and can execute certain\u001b[39;00m\n\u001b[0;32m    118\u001b[0m     \u001b[38;5;66;03m# operations in-place.\u001b[39;00m\n\u001b[1;32m--> 119\u001b[0m     \u001b[38;5;28;01mreturn\u001b[39;00m \u001b[43mfunc\u001b[49m\u001b[43m(\u001b[49m\u001b[38;5;241;43m*\u001b[39;49m\u001b[43m(\u001b[49m\u001b[43m_execute_task\u001b[49m\u001b[43m(\u001b[49m\u001b[43ma\u001b[49m\u001b[43m,\u001b[49m\u001b[43m \u001b[49m\u001b[43mcache\u001b[49m\u001b[43m)\u001b[49m\u001b[43m \u001b[49m\u001b[38;5;28;43;01mfor\u001b[39;49;00m\u001b[43m \u001b[49m\u001b[43ma\u001b[49m\u001b[43m \u001b[49m\u001b[38;5;129;43;01min\u001b[39;49;00m\u001b[43m \u001b[49m\u001b[43margs\u001b[49m\u001b[43m)\u001b[49m\u001b[43m)\u001b[49m\n\u001b[0;32m    120\u001b[0m \u001b[38;5;28;01melif\u001b[39;00m \u001b[38;5;129;01mnot\u001b[39;00m ishashable(arg):\n\u001b[0;32m    121\u001b[0m     \u001b[38;5;28;01mreturn\u001b[39;00m arg\n",
      "File \u001b[1;32m~\\anaconda4\\lib\\site-packages\\dask\\core.py:119\u001b[0m, in \u001b[0;36m<genexpr>\u001b[1;34m(.0)\u001b[0m\n\u001b[0;32m    115\u001b[0m     func, args \u001b[38;5;241m=\u001b[39m arg[\u001b[38;5;241m0\u001b[39m], arg[\u001b[38;5;241m1\u001b[39m:]\n\u001b[0;32m    116\u001b[0m     \u001b[38;5;66;03m# Note: Don't assign the subtask results to a variable. numpy detects\u001b[39;00m\n\u001b[0;32m    117\u001b[0m     \u001b[38;5;66;03m# temporaries by their reference count and can execute certain\u001b[39;00m\n\u001b[0;32m    118\u001b[0m     \u001b[38;5;66;03m# operations in-place.\u001b[39;00m\n\u001b[1;32m--> 119\u001b[0m     \u001b[38;5;28;01mreturn\u001b[39;00m func(\u001b[38;5;241m*\u001b[39m(\u001b[43m_execute_task\u001b[49m\u001b[43m(\u001b[49m\u001b[43ma\u001b[49m\u001b[43m,\u001b[49m\u001b[43m \u001b[49m\u001b[43mcache\u001b[49m\u001b[43m)\u001b[49m \u001b[38;5;28;01mfor\u001b[39;00m a \u001b[38;5;129;01min\u001b[39;00m args))\n\u001b[0;32m    120\u001b[0m \u001b[38;5;28;01melif\u001b[39;00m \u001b[38;5;129;01mnot\u001b[39;00m ishashable(arg):\n\u001b[0;32m    121\u001b[0m     \u001b[38;5;28;01mreturn\u001b[39;00m arg\n",
      "File \u001b[1;32m~\\anaconda4\\lib\\site-packages\\dask\\core.py:113\u001b[0m, in \u001b[0;36m_execute_task\u001b[1;34m(arg, cache, dsk)\u001b[0m\n\u001b[0;32m     85\u001b[0m \u001b[38;5;124;03m\"\"\"Do the actual work of collecting data and executing a function\u001b[39;00m\n\u001b[0;32m     86\u001b[0m \n\u001b[0;32m     87\u001b[0m \u001b[38;5;124;03mExamples\u001b[39;00m\n\u001b[1;32m   (...)\u001b[0m\n\u001b[0;32m    110\u001b[0m \u001b[38;5;124;03m'foo'\u001b[39;00m\n\u001b[0;32m    111\u001b[0m \u001b[38;5;124;03m\"\"\"\u001b[39;00m\n\u001b[0;32m    112\u001b[0m \u001b[38;5;28;01mif\u001b[39;00m \u001b[38;5;28misinstance\u001b[39m(arg, \u001b[38;5;28mlist\u001b[39m):\n\u001b[1;32m--> 113\u001b[0m     \u001b[38;5;28;01mreturn\u001b[39;00m [_execute_task(a, cache) \u001b[38;5;28;01mfor\u001b[39;00m a \u001b[38;5;129;01min\u001b[39;00m arg]\n\u001b[0;32m    114\u001b[0m \u001b[38;5;28;01melif\u001b[39;00m istask(arg):\n\u001b[0;32m    115\u001b[0m     func, args \u001b[38;5;241m=\u001b[39m arg[\u001b[38;5;241m0\u001b[39m], arg[\u001b[38;5;241m1\u001b[39m:]\n",
      "File \u001b[1;32m~\\anaconda4\\lib\\site-packages\\dask\\core.py:113\u001b[0m, in \u001b[0;36m<listcomp>\u001b[1;34m(.0)\u001b[0m\n\u001b[0;32m     85\u001b[0m \u001b[38;5;124;03m\"\"\"Do the actual work of collecting data and executing a function\u001b[39;00m\n\u001b[0;32m     86\u001b[0m \n\u001b[0;32m     87\u001b[0m \u001b[38;5;124;03mExamples\u001b[39;00m\n\u001b[1;32m   (...)\u001b[0m\n\u001b[0;32m    110\u001b[0m \u001b[38;5;124;03m'foo'\u001b[39;00m\n\u001b[0;32m    111\u001b[0m \u001b[38;5;124;03m\"\"\"\u001b[39;00m\n\u001b[0;32m    112\u001b[0m \u001b[38;5;28;01mif\u001b[39;00m \u001b[38;5;28misinstance\u001b[39m(arg, \u001b[38;5;28mlist\u001b[39m):\n\u001b[1;32m--> 113\u001b[0m     \u001b[38;5;28;01mreturn\u001b[39;00m [\u001b[43m_execute_task\u001b[49m\u001b[43m(\u001b[49m\u001b[43ma\u001b[49m\u001b[43m,\u001b[49m\u001b[43m \u001b[49m\u001b[43mcache\u001b[49m\u001b[43m)\u001b[49m \u001b[38;5;28;01mfor\u001b[39;00m a \u001b[38;5;129;01min\u001b[39;00m arg]\n\u001b[0;32m    114\u001b[0m \u001b[38;5;28;01melif\u001b[39;00m istask(arg):\n\u001b[0;32m    115\u001b[0m     func, args \u001b[38;5;241m=\u001b[39m arg[\u001b[38;5;241m0\u001b[39m], arg[\u001b[38;5;241m1\u001b[39m:]\n",
      "File \u001b[1;32m~\\anaconda4\\lib\\site-packages\\dask\\core.py:119\u001b[0m, in \u001b[0;36m_execute_task\u001b[1;34m(arg, cache, dsk)\u001b[0m\n\u001b[0;32m    115\u001b[0m     func, args \u001b[38;5;241m=\u001b[39m arg[\u001b[38;5;241m0\u001b[39m], arg[\u001b[38;5;241m1\u001b[39m:]\n\u001b[0;32m    116\u001b[0m     \u001b[38;5;66;03m# Note: Don't assign the subtask results to a variable. numpy detects\u001b[39;00m\n\u001b[0;32m    117\u001b[0m     \u001b[38;5;66;03m# temporaries by their reference count and can execute certain\u001b[39;00m\n\u001b[0;32m    118\u001b[0m     \u001b[38;5;66;03m# operations in-place.\u001b[39;00m\n\u001b[1;32m--> 119\u001b[0m     \u001b[38;5;28;01mreturn\u001b[39;00m \u001b[43mfunc\u001b[49m\u001b[43m(\u001b[49m\u001b[38;5;241;43m*\u001b[39;49m\u001b[43m(\u001b[49m\u001b[43m_execute_task\u001b[49m\u001b[43m(\u001b[49m\u001b[43ma\u001b[49m\u001b[43m,\u001b[49m\u001b[43m \u001b[49m\u001b[43mcache\u001b[49m\u001b[43m)\u001b[49m\u001b[43m \u001b[49m\u001b[38;5;28;43;01mfor\u001b[39;49;00m\u001b[43m \u001b[49m\u001b[43ma\u001b[49m\u001b[43m \u001b[49m\u001b[38;5;129;43;01min\u001b[39;49;00m\u001b[43m \u001b[49m\u001b[43margs\u001b[49m\u001b[43m)\u001b[49m\u001b[43m)\u001b[49m\n\u001b[0;32m    120\u001b[0m \u001b[38;5;28;01melif\u001b[39;00m \u001b[38;5;129;01mnot\u001b[39;00m ishashable(arg):\n\u001b[0;32m    121\u001b[0m     \u001b[38;5;28;01mreturn\u001b[39;00m arg\n",
      "File \u001b[1;32m~\\anaconda4\\lib\\site-packages\\dask\\dataframe\\io\\csv.py:128\u001b[0m, in \u001b[0;36mCSVFunctionWrapper.__call__\u001b[1;34m(self, part)\u001b[0m\n\u001b[0;32m    125\u001b[0m         rest_kwargs[\u001b[38;5;124m\"\u001b[39m\u001b[38;5;124musecols\u001b[39m\u001b[38;5;124m\"\u001b[39m] \u001b[38;5;241m=\u001b[39m columns\n\u001b[0;32m    127\u001b[0m \u001b[38;5;66;03m# Call `pandas_read_text`\u001b[39;00m\n\u001b[1;32m--> 128\u001b[0m df \u001b[38;5;241m=\u001b[39m \u001b[43mpandas_read_text\u001b[49m\u001b[43m(\u001b[49m\n\u001b[0;32m    129\u001b[0m \u001b[43m    \u001b[49m\u001b[38;5;28;43mself\u001b[39;49m\u001b[38;5;241;43m.\u001b[39;49m\u001b[43mreader\u001b[49m\u001b[43m,\u001b[49m\n\u001b[0;32m    130\u001b[0m \u001b[43m    \u001b[49m\u001b[43mblock\u001b[49m\u001b[43m,\u001b[49m\n\u001b[0;32m    131\u001b[0m \u001b[43m    \u001b[49m\u001b[38;5;28;43mself\u001b[39;49m\u001b[38;5;241;43m.\u001b[39;49m\u001b[43mheader\u001b[49m\u001b[43m,\u001b[49m\n\u001b[0;32m    132\u001b[0m \u001b[43m    \u001b[49m\u001b[43mrest_kwargs\u001b[49m\u001b[43m,\u001b[49m\n\u001b[0;32m    133\u001b[0m \u001b[43m    \u001b[49m\u001b[38;5;28;43mself\u001b[39;49m\u001b[38;5;241;43m.\u001b[39;49m\u001b[43mdtypes\u001b[49m\u001b[43m,\u001b[49m\n\u001b[0;32m    134\u001b[0m \u001b[43m    \u001b[49m\u001b[43mcolumns\u001b[49m\u001b[43m,\u001b[49m\n\u001b[0;32m    135\u001b[0m \u001b[43m    \u001b[49m\u001b[43mwrite_header\u001b[49m\u001b[43m,\u001b[49m\n\u001b[0;32m    136\u001b[0m \u001b[43m    \u001b[49m\u001b[38;5;28;43mself\u001b[39;49m\u001b[38;5;241;43m.\u001b[39;49m\u001b[43menforce\u001b[49m\u001b[43m,\u001b[49m\n\u001b[0;32m    137\u001b[0m \u001b[43m    \u001b[49m\u001b[43mpath_info\u001b[49m\u001b[43m,\u001b[49m\n\u001b[0;32m    138\u001b[0m \u001b[43m\u001b[49m\u001b[43m)\u001b[49m\n\u001b[0;32m    139\u001b[0m \u001b[38;5;28;01mif\u001b[39;00m project_after_read:\n\u001b[0;32m    140\u001b[0m     \u001b[38;5;28;01mreturn\u001b[39;00m df[\u001b[38;5;28mself\u001b[39m\u001b[38;5;241m.\u001b[39mcolumns]\n",
      "File \u001b[1;32m~\\anaconda4\\lib\\site-packages\\dask\\dataframe\\io\\csv.py:183\u001b[0m, in \u001b[0;36mpandas_read_text\u001b[1;34m(reader, b, header, kwargs, dtypes, columns, write_header, enforce, path)\u001b[0m\n\u001b[0;32m    181\u001b[0m df \u001b[38;5;241m=\u001b[39m reader(bio, \u001b[38;5;241m*\u001b[39m\u001b[38;5;241m*\u001b[39mkwargs)\n\u001b[0;32m    182\u001b[0m \u001b[38;5;28;01mif\u001b[39;00m dtypes:\n\u001b[1;32m--> 183\u001b[0m     \u001b[43mcoerce_dtypes\u001b[49m\u001b[43m(\u001b[49m\u001b[43mdf\u001b[49m\u001b[43m,\u001b[49m\u001b[43m \u001b[49m\u001b[43mdtypes\u001b[49m\u001b[43m)\u001b[49m\n\u001b[0;32m    185\u001b[0m \u001b[38;5;28;01mif\u001b[39;00m enforce \u001b[38;5;129;01mand\u001b[39;00m columns \u001b[38;5;129;01mand\u001b[39;00m (\u001b[38;5;28mlist\u001b[39m(df\u001b[38;5;241m.\u001b[39mcolumns) \u001b[38;5;241m!=\u001b[39m \u001b[38;5;28mlist\u001b[39m(columns)):\n\u001b[0;32m    186\u001b[0m     \u001b[38;5;28;01mraise\u001b[39;00m \u001b[38;5;167;01mValueError\u001b[39;00m(\u001b[38;5;124m\"\u001b[39m\u001b[38;5;124mColumns do not match\u001b[39m\u001b[38;5;124m\"\u001b[39m, df\u001b[38;5;241m.\u001b[39mcolumns, columns)\n",
      "File \u001b[1;32m~\\anaconda4\\lib\\site-packages\\dask\\dataframe\\io\\csv.py:284\u001b[0m, in \u001b[0;36mcoerce_dtypes\u001b[1;34m(df, dtypes)\u001b[0m\n\u001b[0;32m    280\u001b[0m rule \u001b[38;5;241m=\u001b[39m \u001b[38;5;124m\"\u001b[39m\u001b[38;5;130;01m\\n\u001b[39;00m\u001b[38;5;130;01m\\n\u001b[39;00m\u001b[38;5;132;01m%s\u001b[39;00m\u001b[38;5;130;01m\\n\u001b[39;00m\u001b[38;5;130;01m\\n\u001b[39;00m\u001b[38;5;124m\"\u001b[39m \u001b[38;5;241m%\u001b[39m (\u001b[38;5;124m\"\u001b[39m\u001b[38;5;124m-\u001b[39m\u001b[38;5;124m\"\u001b[39m \u001b[38;5;241m*\u001b[39m \u001b[38;5;241m61\u001b[39m)\n\u001b[0;32m    281\u001b[0m msg \u001b[38;5;241m=\u001b[39m \u001b[38;5;124m\"\u001b[39m\u001b[38;5;124mMismatched dtypes found in `pd.read_csv`/`pd.read_table`.\u001b[39m\u001b[38;5;130;01m\\n\u001b[39;00m\u001b[38;5;130;01m\\n\u001b[39;00m\u001b[38;5;132;01m%s\u001b[39;00m\u001b[38;5;124m\"\u001b[39m \u001b[38;5;241m%\u001b[39m (\n\u001b[0;32m    282\u001b[0m     rule\u001b[38;5;241m.\u001b[39mjoin(\u001b[38;5;28mfilter\u001b[39m(\u001b[38;5;28;01mNone\u001b[39;00m, [dtype_msg, date_msg]))\n\u001b[0;32m    283\u001b[0m )\n\u001b[1;32m--> 284\u001b[0m \u001b[38;5;28;01mraise\u001b[39;00m \u001b[38;5;167;01mValueError\u001b[39;00m(msg)\n",
      "\u001b[1;31mValueError\u001b[0m: Mismatched dtypes found in `pd.read_csv`/`pd.read_table`.\n\n+--------+---------+----------+\n| Column | Found   | Expected |\n+--------+---------+----------+\n| Time   | float64 | int64    |\n+--------+---------+----------+\n\nUsually this is due to dask's dtype inference failing, and\n*may* be fixed by specifying dtypes manually by adding:\n\ndtype={'Time': 'float64'}\n\nto the call to `read_csv`/`read_table`.\n\nAlternatively, provide `assume_missing=True` to interpret\nall unspecified integer columns as floats."
     ]
    }
   ],
   "source": [
    "df2.info(memory_usage='deep')"
   ]
  },
  {
   "cell_type": "code",
   "execution_count": 12,
   "id": "13a1d593",
   "metadata": {},
   "outputs": [],
   "source": [
    "df3=dt.fread('creditcard.csv')"
   ]
  },
  {
   "cell_type": "code",
   "execution_count": 13,
   "id": "95e5ee9f",
   "metadata": {},
   "outputs": [
    {
     "data": {
      "text/html": [
       "<div class='datatable'>\n",
       "  <table class='frame'>\n",
       "  <thead>\n",
       "    <tr class='colnames'><td class='row_index'></td><th>Time</th><th>V1</th><th>V2</th><th>V3</th><th>V4</th><th>V5</th><th>V6</th><th>V7</th><th>V8</th><th>V9</th><th class='vellipsis'>&hellip;</th><th>V26</th><th>V27</th><th>V28</th><th>Amount</th><th>Class</th></tr>\n",
       "    <tr class='coltypes'><td class='row_index'></td><td class='float' title='float64'>&#x25AA;&#x25AA;&#x25AA;&#x25AA;&#x25AA;&#x25AA;&#x25AA;&#x25AA;</td><td class='float' title='float64'>&#x25AA;&#x25AA;&#x25AA;&#x25AA;&#x25AA;&#x25AA;&#x25AA;&#x25AA;</td><td class='float' title='float64'>&#x25AA;&#x25AA;&#x25AA;&#x25AA;&#x25AA;&#x25AA;&#x25AA;&#x25AA;</td><td class='float' title='float64'>&#x25AA;&#x25AA;&#x25AA;&#x25AA;&#x25AA;&#x25AA;&#x25AA;&#x25AA;</td><td class='float' title='float64'>&#x25AA;&#x25AA;&#x25AA;&#x25AA;&#x25AA;&#x25AA;&#x25AA;&#x25AA;</td><td class='float' title='float64'>&#x25AA;&#x25AA;&#x25AA;&#x25AA;&#x25AA;&#x25AA;&#x25AA;&#x25AA;</td><td class='float' title='float64'>&#x25AA;&#x25AA;&#x25AA;&#x25AA;&#x25AA;&#x25AA;&#x25AA;&#x25AA;</td><td class='float' title='float64'>&#x25AA;&#x25AA;&#x25AA;&#x25AA;&#x25AA;&#x25AA;&#x25AA;&#x25AA;</td><td class='float' title='float64'>&#x25AA;&#x25AA;&#x25AA;&#x25AA;&#x25AA;&#x25AA;&#x25AA;&#x25AA;</td><td class='float' title='float64'>&#x25AA;&#x25AA;&#x25AA;&#x25AA;&#x25AA;&#x25AA;&#x25AA;&#x25AA;</td><td></td><td class='float' title='float64'>&#x25AA;&#x25AA;&#x25AA;&#x25AA;&#x25AA;&#x25AA;&#x25AA;&#x25AA;</td><td class='float' title='float64'>&#x25AA;&#x25AA;&#x25AA;&#x25AA;&#x25AA;&#x25AA;&#x25AA;&#x25AA;</td><td class='float' title='float64'>&#x25AA;&#x25AA;&#x25AA;&#x25AA;&#x25AA;&#x25AA;&#x25AA;&#x25AA;</td><td class='float' title='float64'>&#x25AA;&#x25AA;&#x25AA;&#x25AA;&#x25AA;&#x25AA;&#x25AA;&#x25AA;</td><td class='bool' title='bool8'>&#x25AA;</td></tr>\n",
       "  </thead>\n",
       "  <tbody>\n",
       "    <tr><td class='row_index'>0</td><td>0</td><td>&minus;1.35981</td><td>&minus;0.0727812</td><td>2.53635</td><td>1.37816</td><td>&minus;0.338321</td><td>0.462388</td><td>0.239599</td><td>0.0986979</td><td>0.363787</td><td class=vellipsis>&hellip;</td><td>&minus;0.189115</td><td>0.133558</td><td>&minus;0.0210531</td><td>149.62</td><td>0</td></tr>\n",
       "    <tr><td class='row_index'>1</td><td>0</td><td>1.19186</td><td>0.266151</td><td>0.16648</td><td>0.448154</td><td>0.0600176</td><td>&minus;0.0823608</td><td>&minus;0.078803</td><td>0.0851017</td><td>&minus;0.255425</td><td class=vellipsis>&hellip;</td><td>0.125895</td><td>&minus;0.0089831</td><td>0.0147242</td><td>2.69</td><td>0</td></tr>\n",
       "    <tr><td class='row_index'>2</td><td>1</td><td>&minus;1.35835</td><td>&minus;1.34016</td><td>1.77321</td><td>0.37978</td><td>&minus;0.503198</td><td>1.8005</td><td>0.791461</td><td>0.247676</td><td>&minus;1.51465</td><td class=vellipsis>&hellip;</td><td>&minus;0.139097</td><td>&minus;0.0553528</td><td>&minus;0.0597518</td><td>378.66</td><td>0</td></tr>\n",
       "    <tr><td class='row_index'>3</td><td>1</td><td>&minus;0.966272</td><td>&minus;0.185226</td><td>1.79299</td><td>&minus;0.863291</td><td>&minus;0.0103089</td><td>1.2472</td><td>0.237609</td><td>0.377436</td><td>&minus;1.38702</td><td class=vellipsis>&hellip;</td><td>&minus;0.221929</td><td>0.0627228</td><td>0.0614576</td><td>123.5</td><td>0</td></tr>\n",
       "    <tr><td class='row_index'>4</td><td>2</td><td>&minus;1.15823</td><td>0.877737</td><td>1.54872</td><td>0.403034</td><td>&minus;0.407193</td><td>0.0959215</td><td>0.592941</td><td>&minus;0.270533</td><td>0.817739</td><td class=vellipsis>&hellip;</td><td>0.502292</td><td>0.219422</td><td>0.215153</td><td>69.99</td><td>0</td></tr>\n",
       "    <tr><td class='row_index'>5</td><td>2</td><td>&minus;0.425966</td><td>0.960523</td><td>1.14111</td><td>&minus;0.168252</td><td>0.420987</td><td>&minus;0.0297276</td><td>0.476201</td><td>0.260314</td><td>&minus;0.568671</td><td class=vellipsis>&hellip;</td><td>0.105915</td><td>0.253844</td><td>0.0810803</td><td>3.67</td><td>0</td></tr>\n",
       "    <tr><td class='row_index'>6</td><td>4</td><td>1.22966</td><td>0.141004</td><td>0.0453708</td><td>1.20261</td><td>0.191881</td><td>0.272708</td><td>&minus;0.005159</td><td>0.0812129</td><td>0.46496</td><td class=vellipsis>&hellip;</td><td>&minus;0.257237</td><td>0.0345074</td><td>0.00516777</td><td>4.99</td><td>0</td></tr>\n",
       "    <tr><td class='row_index'>7</td><td>7</td><td>&minus;0.644269</td><td>1.41796</td><td>1.07438</td><td>&minus;0.492199</td><td>0.948934</td><td>0.428118</td><td>1.12063</td><td>&minus;3.80786</td><td>0.615375</td><td class=vellipsis>&hellip;</td><td>&minus;0.0516343</td><td>&minus;1.20692</td><td>&minus;1.08534</td><td>40.8</td><td>0</td></tr>\n",
       "    <tr><td class='row_index'>8</td><td>7</td><td>&minus;0.894286</td><td>0.286157</td><td>&minus;0.113192</td><td>&minus;0.271526</td><td>2.6696</td><td>3.72182</td><td>0.370145</td><td>0.851084</td><td>&minus;0.392048</td><td class=vellipsis>&hellip;</td><td>&minus;0.384157</td><td>0.0117474</td><td>0.142404</td><td>93.2</td><td>0</td></tr>\n",
       "    <tr><td class='row_index'>9</td><td>9</td><td>&minus;0.338262</td><td>1.11959</td><td>1.04437</td><td>&minus;0.222187</td><td>0.499361</td><td>&minus;0.246761</td><td>0.651583</td><td>0.0695386</td><td>&minus;0.736727</td><td class=vellipsis>&hellip;</td><td>0.0941988</td><td>0.246219</td><td>0.0830756</td><td>3.68</td><td>0</td></tr>\n",
       "    <tr><td class='row_index'>10</td><td>10</td><td>1.44904</td><td>&minus;1.17634</td><td>0.91386</td><td>&minus;1.37567</td><td>&minus;1.97138</td><td>&minus;0.629152</td><td>&minus;1.42324</td><td>0.0484559</td><td>&minus;1.72041</td><td class=vellipsis>&hellip;</td><td>&minus;0.129478</td><td>0.0428499</td><td>0.0162533</td><td>7.8</td><td>0</td></tr>\n",
       "    <tr><td class='row_index'>11</td><td>10</td><td>0.384978</td><td>0.616109</td><td>&minus;0.8743</td><td>&minus;0.0940186</td><td>2.92458</td><td>3.31703</td><td>0.470455</td><td>0.538247</td><td>&minus;0.558895</td><td class=vellipsis>&hellip;</td><td>&minus;0.492208</td><td>0.0424724</td><td>&minus;0.0543374</td><td>9.99</td><td>0</td></tr>\n",
       "    <tr><td class='row_index'>12</td><td>10</td><td>1.25</td><td>&minus;1.22164</td><td>0.38393</td><td>&minus;1.2349</td><td>&minus;1.48542</td><td>&minus;0.75323</td><td>&minus;0.689405</td><td>&minus;0.227487</td><td>&minus;2.09401</td><td class=vellipsis>&hellip;</td><td>&minus;0.35499</td><td>0.0264155</td><td>0.0424221</td><td>121.5</td><td>0</td></tr>\n",
       "    <tr><td class='row_index'>13</td><td>11</td><td>1.06937</td><td>0.287722</td><td>0.828613</td><td>2.71252</td><td>&minus;0.178398</td><td>0.337544</td><td>&minus;0.0967169</td><td>0.115982</td><td>&minus;0.221083</td><td class=vellipsis>&hellip;</td><td>0.104094</td><td>0.0214911</td><td>0.0212933</td><td>27.5</td><td>0</td></tr>\n",
       "    <tr><td class='row_index'>14</td><td>12</td><td>&minus;2.79185</td><td>&minus;0.327771</td><td>1.64175</td><td>1.76747</td><td>&minus;0.136588</td><td>0.807596</td><td>&minus;0.422911</td><td>&minus;1.90711</td><td>0.755713</td><td class=vellipsis>&hellip;</td><td>&minus;0.235557</td><td>&minus;0.164778</td><td>&minus;0.0301536</td><td>58.8</td><td>0</td></tr>\n",
       "    <tr><td class='row_index'>&#x22EE;</td><td class='hellipsis'>&#x22EE;</td><td class='hellipsis'>&#x22EE;</td><td class='hellipsis'>&#x22EE;</td><td class='hellipsis'>&#x22EE;</td><td class='hellipsis'>&#x22EE;</td><td class='hellipsis'>&#x22EE;</td><td class='hellipsis'>&#x22EE;</td><td class='hellipsis'>&#x22EE;</td><td class='hellipsis'>&#x22EE;</td><td class='hellipsis'>&#x22EE;</td><td class='hellipsis'>&#x22F1;</td><td class='hellipsis'>&#x22EE;</td><td class='hellipsis'>&#x22EE;</td><td class='hellipsis'>&#x22EE;</td><td class='hellipsis'>&#x22EE;</td><td class='hellipsis'>&#x22EE;</td></tr>\n",
       "    <tr><td class='row_index'>284,802</td><td>172786</td><td>&minus;11.8811</td><td>10.0718</td><td>&minus;9.83478</td><td>&minus;2.06666</td><td>&minus;5.36447</td><td>&minus;2.60684</td><td>&minus;4.91822</td><td>7.30533</td><td>1.91443</td><td class=vellipsis>&hellip;</td><td>0.250034</td><td>0.943651</td><td>0.823731</td><td>0.77</td><td>0</td></tr>\n",
       "    <tr><td class='row_index'>284,803</td><td>172787</td><td>&minus;0.732789</td><td>&minus;0.0550805</td><td>2.03503</td><td>&minus;0.738589</td><td>0.868229</td><td>1.05842</td><td>0.0243297</td><td>0.294869</td><td>0.5848</td><td class=vellipsis>&hellip;</td><td>&minus;0.395255</td><td>0.0684725</td><td>&minus;0.0535274</td><td>24.79</td><td>0</td></tr>\n",
       "    <tr><td class='row_index'>284,804</td><td>172788</td><td>1.91957</td><td>&minus;0.301254</td><td>&minus;3.24964</td><td>&minus;0.557828</td><td>2.63052</td><td>3.03126</td><td>&minus;0.296827</td><td>0.708417</td><td>0.432454</td><td class=vellipsis>&hellip;</td><td>&minus;0.0873706</td><td>0.00445477</td><td>&minus;0.0265608</td><td>67.88</td><td>0</td></tr>\n",
       "    <tr><td class='row_index'>284,805</td><td>172788</td><td>&minus;0.24044</td><td>0.530483</td><td>0.70251</td><td>0.689799</td><td>&minus;0.377961</td><td>0.623708</td><td>&minus;0.68618</td><td>0.679145</td><td>0.392087</td><td class=vellipsis>&hellip;</td><td>0.546668</td><td>0.108821</td><td>0.104533</td><td>10</td><td>0</td></tr>\n",
       "    <tr><td class='row_index'>284,806</td><td>172792</td><td>&minus;0.533413</td><td>&minus;0.189733</td><td>0.703337</td><td>&minus;0.506271</td><td>&minus;0.0125457</td><td>&minus;0.649617</td><td>1.57701</td><td>&minus;0.41465</td><td>0.48618</td><td class=vellipsis>&hellip;</td><td>&minus;0.818267</td><td>&minus;0.00241531</td><td>0.0136489</td><td>217</td><td>0</td></tr>\n",
       "  </tbody>\n",
       "  </table>\n",
       "  <div class='footer'>\n",
       "    <div class='frame_dimensions'>284,807 rows &times; 31 columns</div>\n",
       "  </div>\n",
       "</div>\n"
      ],
      "text/plain": [
       "<Frame#2a9261a9180 284807x31>"
      ]
     },
     "execution_count": 13,
     "metadata": {},
     "output_type": "execute_result"
    }
   ],
   "source": [
    "df3"
   ]
  },
  {
   "cell_type": "code",
   "execution_count": 15,
   "id": "0949ed0c",
   "metadata": {},
   "outputs": [
    {
     "data": {
      "text/plain": [
       "2976"
      ]
     },
     "execution_count": 15,
     "metadata": {},
     "output_type": "execute_result"
    }
   ],
   "source": [
    "gc.collect()"
   ]
  },
  {
   "cell_type": "code",
   "execution_count": 16,
   "id": "40389049",
   "metadata": {},
   "outputs": [
    {
     "name": "stdout",
     "output_type": "stream",
     "text": [
      "<class 'pandas.core.frame.DataFrame'>\n",
      "RangeIndex: 284807 entries, 0 to 284806\n",
      "Data columns (total 31 columns):\n",
      " #   Column  Non-Null Count   Dtype  \n",
      "---  ------  --------------   -----  \n",
      " 0   Time    284807 non-null  float64\n",
      " 1   V1      284807 non-null  float64\n",
      " 2   V2      284807 non-null  float64\n",
      " 3   V3      284807 non-null  float64\n",
      " 4   V4      284807 non-null  float64\n",
      " 5   V5      284807 non-null  float64\n",
      " 6   V6      284807 non-null  float64\n",
      " 7   V7      284807 non-null  float64\n",
      " 8   V8      284807 non-null  float64\n",
      " 9   V9      284807 non-null  float64\n",
      " 10  V10     284807 non-null  float64\n",
      " 11  V11     284807 non-null  float64\n",
      " 12  V12     284807 non-null  float64\n",
      " 13  V13     284807 non-null  float64\n",
      " 14  V14     284807 non-null  float64\n",
      " 15  V15     284807 non-null  float64\n",
      " 16  V16     284807 non-null  float64\n",
      " 17  V17     284807 non-null  float64\n",
      " 18  V18     284807 non-null  float64\n",
      " 19  V19     284807 non-null  float64\n",
      " 20  V20     284807 non-null  float64\n",
      " 21  V21     284807 non-null  float64\n",
      " 22  V22     284807 non-null  float64\n",
      " 23  V23     284807 non-null  float64\n",
      " 24  V24     284807 non-null  float64\n",
      " 25  V25     284807 non-null  float64\n",
      " 26  V26     284807 non-null  float64\n",
      " 27  V27     284807 non-null  float64\n",
      " 28  V28     284807 non-null  float64\n",
      " 29  Amount  284807 non-null  float64\n",
      " 30  Class   284807 non-null  int64  \n",
      "dtypes: float64(30), int64(1)\n",
      "memory usage: 67.4 MB\n"
     ]
    }
   ],
   "source": [
    "df.info(memory_usage='deep')"
   ]
  },
  {
   "cell_type": "code",
   "execution_count": null,
   "id": "35f15755",
   "metadata": {},
   "outputs": [],
   "source": []
  }
 ],
 "metadata": {
  "kernelspec": {
   "display_name": "Python 3 (ipykernel)",
   "language": "python",
   "name": "python3"
  },
  "language_info": {
   "codemirror_mode": {
    "name": "ipython",
    "version": 3
   },
   "file_extension": ".py",
   "mimetype": "text/x-python",
   "name": "python",
   "nbconvert_exporter": "python",
   "pygments_lexer": "ipython3",
   "version": "3.9.12"
  }
 },
 "nbformat": 4,
 "nbformat_minor": 5
}
